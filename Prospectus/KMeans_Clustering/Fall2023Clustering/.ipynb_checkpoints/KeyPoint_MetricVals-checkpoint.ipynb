{
 "cells": [
  {
   "cell_type": "code",
   "execution_count": 2,
   "id": "51fb1cc8-9384-46b8-b379-e1577937af3d",
   "metadata": {},
   "outputs": [],
   "source": [
    "##avg metric values, cap anom gph and temp"
   ]
  },
  {
   "cell_type": "code",
   "execution_count": 3,
   "id": "299a7a9e-583a-4c32-9570-40ed3437152e",
   "metadata": {},
   "outputs": [],
   "source": [
    "#import packages\n",
    "import datetime as dt\n",
    "import numpy as np\n",
    "import xarray as xr\n",
    "import scipy.stats\n",
    "import pickle"
   ]
  },
  {
   "cell_type": "code",
   "execution_count": 4,
   "id": "83de8288-2804-4074-88fc-f79167b72e27",
   "metadata": {},
   "outputs": [],
   "source": [
    "#open files for split gph data and recombine, old root is ../2023ClusterCode/Pickles/\n",
    "##N20 related gph and 850 temp files ... will just use this for getting cap values. \n",
    "infile = open(\"../../New_ERAfiles/N20_gph_NEW.p\", 'rb')\n",
    "gph = pickle.load(infile)\n",
    "infile.close()\n",
    "\n",
    "infile = open(\"../../New_ERAfiles/N20_temp850_NEW.p\", 'rb')\n",
    "temp = pickle.load(infile)\n",
    "infile.close()\n",
    "\n",
    "infile = open(\"../../New_ERAfiles/N20_temp850_time_NEW.p\", 'rb')\n",
    "temp_time = pickle.load(infile)\n",
    "infile.close()\n",
    "\n",
    "infile = open(\"../../New_ERAfiles/N20_gph_time_NEW.p\", 'rb')\n",
    "gph_time = pickle.load(infile)\n",
    "infile.close()\n",
    "\n",
    "infile = open(\"../../New_ERAfiles/N20_gph_lat_NEW.p\", 'rb')\n",
    "gph_lat = pickle.load(infile)\n",
    "infile.close()\n",
    "\n",
    "infile = open(\"../../New_ERAfiles/N20_gph_lon_NEW.p\", 'rb')\n",
    "gph_lon = pickle.load(infile)\n",
    "infile.close()"
   ]
  },
  {
   "cell_type": "code",
   "execution_count": 5,
   "id": "14124dde-8053-48f9-a9c4-a91e4d487b6e",
   "metadata": {},
   "outputs": [],
   "source": [
    "##N20 cluster labels\n",
    "infile = open(\"./ClusterLabels/NEW_GPHcluster_labels.p\", 'rb') \n",
    "N20label = pickle.load(infile)\n",
    "infile.close()\n",
    "\n",
    "infile = open(\"./ClusterLabels/NEW_GPHcluster_labels_HOURLY.p\", 'rb') \n",
    "N20label_H = pickle.load(infile)\n",
    "infile.close()\n",
    "\n",
    "infile = open(\"./ClusterLabels/N20_ANOMcluster_labels.p\", 'rb') \n",
    "NAlabel = pickle.load(infile)\n",
    "infile.close()\n",
    "\n",
    "infile = open(\"./ClusterLabels/N20_HOURLY_ANOMcluster_labels.p\", 'rb') \n",
    "NAlabel_H = pickle.load(infile)\n",
    "infile.close()"
   ]
  },
  {
   "cell_type": "code",
   "execution_count": 6,
   "id": "5a5a1d6d-146b-4f13-b31f-c00441699c6c",
   "metadata": {},
   "outputs": [],
   "source": [
    "##All lat cluster labels\n",
    "infile = open(\"./ClusterLabels/ALL_GPHcluster_labels.p\", 'rb') \n",
    "ALLlabel = pickle.load(infile)\n",
    "infile.close()\n",
    "\n",
    "infile = open(\"./ClusterLabels/ALL_HOURLY_GPHcluster_labels.p\", 'rb') \n",
    "ALLlabel_H = pickle.load(infile)\n",
    "infile.close()\n",
    "\n",
    "infile = open(\"./ClusterLabels/ALL_ANOMcluster_labels.p\", 'rb') \n",
    "AAlabel = pickle.load(infile)\n",
    "infile.close()\n",
    "\n",
    "infile = open(\"./ClusterLabels/ALL_HOURLY_ANOMcluster_labels.p\", 'rb') \n",
    "AAlabel_H = pickle.load(infile)\n",
    "infile.close()"
   ]
  },
  {
   "cell_type": "code",
   "execution_count": 7,
   "id": "318ca6dc-77cf-43b8-9d6d-4be9ce3442fa",
   "metadata": {},
   "outputs": [],
   "source": [
    "##import relevant Elliptical Value Files \n",
    "#old root is ../../Ellipse_ERAI_data/\n",
    "infile = open(\"../../New_EllipseVals/ephi10_NEW.p\", 'rb')\n",
    "ephi10 = pickle.load(infile)\n",
    "infile.close()\n",
    "\n",
    "infile = open(\"../../New_EllipseVals/ephi_ratio10_NEW.p\", 'rb')\n",
    "rat10 = pickle.load(infile)\n",
    "infile.close()\n",
    "\n",
    "infile = open(\"../../New_EllipseVals/ephi_size10_NEW.p\", 'rb')\n",
    "size10 = pickle.load(infile)\n",
    "infile.close()\n",
    "\n",
    "infile = open(\"../../New_EllipseVals/ephi_cenlat10_NEW.p\", 'rb')\n",
    "cenlat10 = pickle.load(infile)\n",
    "infile.close()\n",
    "\n",
    "infile = open(\"../../New_EllipseVals/ephi_cenlon10_NEW.p\", 'rb')\n",
    "cenlon10 = pickle.load(infile)\n",
    "infile.close()\n",
    "\n",
    "infile = open(\"../../New_EllipseVals/ephi_wind10_NEW.p\", 'rb')\n",
    "wind10 = pickle.load(infile)\n",
    "infile.close()"
   ]
  },
  {
   "cell_type": "code",
   "execution_count": 8,
   "id": "0a17c35f-fbd5-49bd-b410-dcf6e93c13a5",
   "metadata": {},
   "outputs": [],
   "source": [
    "infile = open(\"N20_UW_lat.p\", 'rb')\n",
    "unweighted_lat = pickle.load(infile)\n",
    "infile.close()\n",
    "\n",
    "infile = open(\"N20_UW_lon.p\", 'rb') \n",
    "unweighted_lon = pickle.load(infile)\n",
    "infile.close()"
   ]
  },
  {
   "cell_type": "code",
   "execution_count": 9,
   "id": "252e9c86-3cd5-484e-b2ed-a98362de148d",
   "metadata": {},
   "outputs": [],
   "source": [
    "infile = open(\"ao_vals.p\", 'rb')\n",
    "ao = pickle.load(infile)\n",
    "infile.close()\n",
    "\n",
    "infile = open(\"nao_vals.p\", 'rb') \n",
    "nao = pickle.load(infile)\n",
    "infile.close()\n",
    "\n",
    "infile = open(\"pna_vals.p\", 'rb') \n",
    "pna = pickle.load(infile)\n",
    "infile.close()"
   ]
  },
  {
   "cell_type": "markdown",
   "id": "2cddd09e-0f12-4c19-8477-d560d3865a2e",
   "metadata": {},
   "source": [
    "### Done with imports. "
   ]
  },
  {
   "cell_type": "code",
   "execution_count": 8,
   "id": "afe833de-7948-4211-ac0b-5866ba6bd06a",
   "metadata": {},
   "outputs": [],
   "source": [
    "#non-stacked\n",
    "##creating DataArray for gph\n",
    "gph = xr.DataArray(data= gph, \n",
    "                       dims = [\"time\",\"lat\",\"lon\"],\n",
    "                       coords = dict(\n",
    "                           time = gph_time,\n",
    "                           lat = unweighted_lat,\n",
    "                           lon = unweighted_lon)\n",
    "                      )\n",
    "gph_D = gph.groupby('time.date').mean()\n",
    "#gph"
   ]
  },
  {
   "cell_type": "code",
   "execution_count": 9,
   "id": "13a6b57d-96c8-4b79-918b-61355b2ae0ad",
   "metadata": {},
   "outputs": [],
   "source": [
    "#calculate daily mean values\n",
    "daily_mean_gph = gph.groupby('time.dayofyear').mean()\n",
    "#test gph anomaly\n",
    "daily_anom_gph = gph.groupby('time.dayofyear') - daily_mean_gph\n",
    "\n",
    "anom_D = daily_anom_gph.groupby('time.date').mean()"
   ]
  },
  {
   "cell_type": "code",
   "execution_count": null,
   "id": "11fe583c-4745-471c-b23a-98f05bc77dec",
   "metadata": {},
   "outputs": [],
   "source": [
    "##straight gph cap values\n",
    "g_cap = np.nanmean(gph.sel(lat = slice(60,90)))\n",
    "g_cap"
   ]
  },
  {
   "cell_type": "code",
   "execution_count": null,
   "id": "7f37d693-2af6-49c9-ad50-f0b9d262f6db",
   "metadata": {},
   "outputs": [],
   "source": [
    "#anomaly cap values\n",
    "ganom_cap = np.nanmean(daily_anom_gph.sel(lat = slice(60,90)))\n",
    "ganom_cap"
   ]
  },
  {
   "cell_type": "code",
   "execution_count": 10,
   "id": "12e07454-6e4d-438e-a6b1-bafdf8674a3e",
   "metadata": {},
   "outputs": [],
   "source": [
    "#non-stacked\n",
    "##creating DataArray for gph\n",
    "temp = xr.DataArray(data= temp, \n",
    "                       dims = [\"time\",\"lat\",\"lon\"],\n",
    "                       coords = dict(\n",
    "                           time = temp_time,\n",
    "                           lat = unweighted_lat,\n",
    "                           lon = unweighted_lon)\n",
    "                      )\n",
    "temp_D = temp.groupby('time.date').mean()\n",
    "\n",
    "#temp"
   ]
  },
  {
   "cell_type": "code",
   "execution_count": 11,
   "id": "89dff744-d252-48e7-85b6-1d85a346ad32",
   "metadata": {},
   "outputs": [],
   "source": [
    "#calculate daily mean values\n",
    "daily_mean_temp = temp.groupby('time.dayofyear').mean()\n",
    "#test gph anomaly\n",
    "daily_anom_temp = temp.groupby('time.dayofyear') - daily_mean_temp\n",
    "\n",
    "anom_tD = daily_anom_temp.groupby('time.date').mean()"
   ]
  },
  {
   "cell_type": "code",
   "execution_count": null,
   "id": "cbdaadc8-7e5b-4a57-8dc0-40120a5f78b0",
   "metadata": {},
   "outputs": [],
   "source": [
    "t_cap = np.nanmean(temp.sel(lat = slice(60,90)))\n",
    "t_cap"
   ]
  },
  {
   "cell_type": "code",
   "execution_count": null,
   "id": "dd02156a-71e3-4f03-b564-d81e36e9de60",
   "metadata": {},
   "outputs": [],
   "source": [
    "#anomaly cap values\n",
    "tanom_cap = np.nanmean(daily_anom_temp.sel(lat = slice(60,90)))\n",
    "tanom_cap"
   ]
  },
  {
   "cell_type": "markdown",
   "id": "ee98fb0e-5410-4662-a0a8-72fd25e87e57",
   "metadata": {},
   "source": [
    "### Done creating arrays of temp/gph and anomaly. "
   ]
  },
  {
   "cell_type": "code",
   "execution_count": 12,
   "id": "c53eb7a5-3c10-48ef-bf8f-95d027e78c51",
   "metadata": {},
   "outputs": [],
   "source": [
    "wind = np.reshape(wind10, (12160))\n",
    "ephi = np.reshape(ephi10, (12160))\n",
    "rat = np.reshape(rat10, (12160))\n",
    "size = np.reshape(size10, (12160))\n",
    "cenlt= np.reshape(cenlat10, (12160))\n",
    "cenln= np.reshape(cenlon10, (12160))"
   ]
  },
  {
   "cell_type": "code",
   "execution_count": 13,
   "id": "b8558773-5da5-4156-8785-df07f706112e",
   "metadata": {},
   "outputs": [],
   "source": [
    "wind = xr.DataArray(data= wind,dims = [\"time\"], coords = dict(time = gph_time))\n",
    "wind_H = np.nan_to_num(wind.values, nan = -999)\n",
    "\n",
    "wind_D = wind.groupby('time.date').mean()\n",
    "wind_D2 = np.nan_to_num(wind_D, nan = -999)\n",
    "########\n",
    "ephi = xr.DataArray(data= ephi,dims = [\"time\"], coords = dict(time = gph_time))\n",
    "ephi_H = np.nan_to_num(ephi.values, nan = -999)\n",
    "\n",
    "ephi_D = ephi.groupby('time.date').mean()\n",
    "ephi_D2 = np.nan_to_num(ephi_D, nan = -999)\n",
    "########\n",
    "rat = xr.DataArray(data= rat,dims = [\"time\"], coords = dict(time = gph_time))\n",
    "rat_H = np.nan_to_num(rat.values, nan = -999)\n",
    "\n",
    "rat_D = rat.groupby('time.date').mean()\n",
    "rat_D2 = np.nan_to_num(rat_D, nan = -999)\n",
    "########\n",
    "size = xr.DataArray(data= size,dims = [\"time\"], coords = dict(time = gph_time))\n",
    "size_H = np.nan_to_num(size.values, nan = -999)\n",
    "\n",
    "size_D = size.groupby('time.date').mean()\n",
    "size_D2 = np.nan_to_num(size_D, nan = -999)\n",
    "########\n",
    "cenlt = xr.DataArray(data= cenlt,dims = [\"time\"], coords = dict(time = gph_time))\n",
    "cenlt_H = np.nan_to_num(cenlt.values, nan = -999)\n",
    "\n",
    "cenlt_D = cenlt.groupby('time.date').mean()\n",
    "cenlt_D2 = np.nan_to_num(cenlt_D, nan = -999)\n",
    "########\n",
    "cenln = xr.DataArray(data= cenln,dims = [\"time\"], coords = dict(time = gph_time))\n",
    "cenln_H = np.nan_to_num(cenln.values, nan = -999)\n",
    "\n",
    "cenln_D = cenln.groupby('time.date').mean()\n",
    "cenln_D2 = np.nan_to_num(cenln_D, nan = -999)"
   ]
  },
  {
   "cell_type": "code",
   "execution_count": 64,
   "id": "18285746-4a50-40e3-88ce-d5d46e00169d",
   "metadata": {},
   "outputs": [],
   "source": [
    "#set empty list of metrics across clusters\n",
    "w1 = []\n",
    "e1 = []\n",
    "r1 = []\n",
    "s1 = []\n",
    "ct1 = []\n",
    "cn1 = []\n",
    "g1 = []\n",
    "ga1 =[]\n",
    "t1 = []\n",
    "\n",
    "w2 = []\n",
    "e2 = []\n",
    "r2 = []\n",
    "s2 = []\n",
    "ct2 = []\n",
    "cn2 = []\n",
    "g2 = []\n",
    "ga2 =[]\n",
    "t2 = []\n",
    "\n",
    "w3 = []\n",
    "e3 = []\n",
    "r3 = []\n",
    "s3 = []\n",
    "ct3 = []\n",
    "cn3 = []\n",
    "g3 = []\n",
    "ga3 =[]\n",
    "t3 = []\n",
    "\n",
    "w4 = []\n",
    "e4 = []\n",
    "r4 = []\n",
    "s4 = []\n",
    "ct4 = []\n",
    "cn4 = []\n",
    "g4 = []\n",
    "ga4 =[]\n",
    "t4 = []\n",
    "\n",
    "w5 = []\n",
    "e5 = []\n",
    "r5 = []\n",
    "s5 = []\n",
    "ct5 = []\n",
    "cn5 = []\n",
    "g5 = []\n",
    "ga5 =[]\n",
    "t5 = []"
   ]
  },
  {
   "cell_type": "code",
   "execution_count": 65,
   "id": "d3b341f8-b9f6-4f48-a271-8b1d3645761f",
   "metadata": {},
   "outputs": [],
   "source": [
    "#set the initial index for each empty array to 0 so it can increas with each aded value\n",
    "#loop, create clustered arrays, yay\n",
    "for k in range(len(AAlabel_H)):\n",
    "    if AAlabel_H[k] == 0:\n",
    "        w1.append(wind.values[k])\n",
    "        e1.append(ephi.values[k])\n",
    "        s1.append(size.values[k])\n",
    "        r1.append(rat.values[k])\n",
    "        ct1.append(cenlt.values[k])\n",
    "        cn1.append(cenln.values[k])\n",
    "        \n",
    "        g1.append(gph.sel(lat=slice(60,90)).values[k])\n",
    "        ga1.append(daily_anom_gph.sel(lat=slice(60,90)).values[k])\n",
    "        t1.append(daily_anom_temp.sel(lat=slice(60,90)).values[k])\n",
    "        \n",
    "    if AAlabel_H[k] == 1:\n",
    "        w2.append(wind.values[k])\n",
    "        e2.append(ephi.values[k])\n",
    "        s2.append(size.values[k])\n",
    "        r2.append(rat.values[k])\n",
    "        ct2.append(cenlt.values[k])\n",
    "        cn2.append(cenln.values[k])\n",
    "        \n",
    "        g2.append(gph.sel(lat=slice(60,90)).values[k])\n",
    "        ga2.append(daily_anom_gph.sel(lat=slice(60,90)).values[k])\n",
    "        t2.append(daily_anom_temp.sel(lat=slice(60,90)).values[k])\n",
    "        \n",
    "    if AAlabel_H[k] == 2:\n",
    "        w3.append(wind.values[k])\n",
    "        e3.append(ephi.values[k])\n",
    "        s3.append(size.values[k])\n",
    "        r3.append(rat.values[k])\n",
    "        ct3.append(cenlt.values[k])\n",
    "        cn3.append(cenln.values[k])\n",
    "        \n",
    "        g3.append(gph.sel(lat=slice(60,90)).values[k])\n",
    "        ga3.append(daily_anom_gph.sel(lat=slice(60,90)).values[k])\n",
    "        t3.append(daily_anom_temp.sel(lat=slice(60,90)).values[k])\n",
    "        \n",
    "    if AAlabel_H[k] == 3:\n",
    "        w4.append(wind.values[k])\n",
    "        e4.append(ephi.values[k])\n",
    "        s4.append(size.values[k])\n",
    "        r4.append(rat.values[k])\n",
    "        ct4.append(cenlt.values[k])\n",
    "        cn4.append(cenln.values[k])\n",
    "        \n",
    "        g4.append(gph.sel(lat=slice(60,90)).values[k])\n",
    "        ga4.append(daily_anom_gph.sel(lat=slice(60,90)).values[k])\n",
    "        t4.append(daily_anom_temp.sel(lat=slice(60,90)).values[k])\n",
    "        \n",
    "    if AAlabel_H[k] == 4:\n",
    "        w5.append(wind.values[k])\n",
    "        e5.append(ephi.values[k])\n",
    "        s5.append(size.values[k])\n",
    "        r5.append(rat.values[k])\n",
    "        ct5.append(cenlt.values[k])\n",
    "        cn5.append(cenln.values[k])\n",
    "        \n",
    "        g5.append(gph.sel(lat=slice(60,90)).values[k])\n",
    "        ga5.append(daily_anom_gph.sel(lat=slice(60,90)).values[k])\n",
    "        t5.append(daily_anom_temp.sel(lat=slice(60,90)).values[k])"
   ]
  },
  {
   "cell_type": "code",
   "execution_count": 49,
   "id": "39efe929-1e11-412a-b89e-3671d8824877",
   "metadata": {},
   "outputs": [
    {
     "name": "stdout",
     "output_type": "stream",
     "text": [
      "C1 Anom:  -89.49184\n",
      "C2 Anom::  652.05505\n",
      "C3 Anom::  -505.19714\n",
      "C4 Anom::  292.52124\n",
      "C5 Anom::  -155.45012\n"
     ]
    }
   ],
   "source": [
    "#GPH Anomaly \n",
    "\n",
    "print(\"C1 Anom: \",np.nanmean(ga1))\n",
    "print(\"C2 Anom:: \",np.nanmean(ga2))\n",
    "print(\"C3 Anom:: \",np.nanmean(ga3))\n",
    "print(\"C4 Anom:: \",np.nanmean(ga4))\n",
    "print(\"C5 Anom:: \",np.nanmean(ga5))"
   ]
  },
  {
   "cell_type": "code",
   "execution_count": 50,
   "id": "fd8d21f1-f52c-40f6-aa1f-305533872572",
   "metadata": {},
   "outputs": [
    {
     "name": "stdout",
     "output_type": "stream",
     "text": [
      "C1 Wind:  24.850881074125017\n",
      "C2 Wind:  0.25285764244964415\n",
      "C3 Wind:  45.781687758689706\n",
      "C4 Wind:  11.813158149715216\n",
      "C5 Wind:  31.937011484943685\n"
     ]
    }
   ],
   "source": [
    "#Wind\n",
    "\n",
    "print(\"C1 Wind: \",np.nanmean(w1))\n",
    "print(\"C2 Wind: \",np.nanmean(w2))\n",
    "print(\"C3 Wind: \",np.nanmean(w3))\n",
    "print(\"C4 Wind: \",np.nanmean(w4))\n",
    "print(\"C5 Wind: \",np.nanmean(w5))"
   ]
  },
  {
   "cell_type": "code",
   "execution_count": 51,
   "id": "713a5c67-1a58-4f7d-94a1-1964f90fb91d",
   "metadata": {},
   "outputs": [
    {
     "name": "stdout",
     "output_type": "stream",
     "text": [
      "C1 EPhi: 74.56001074258634\n",
      "C2 EPhi:  27.421812879400594\n",
      "C3 EPhi:  78.64131456156865\n",
      "C4 EPhi:  45.884950034979475\n",
      "C5 EPhi:  71.922063160903\n"
     ]
    }
   ],
   "source": [
    "#EPhi\n",
    "\n",
    "print(\"C1 EPhi:\", np.nanmean(e1))\n",
    "print(\"C2 EPhi: \",np.nanmean(e2))\n",
    "print(\"C3 EPhi: \",np.nanmean(e3))\n",
    "print(\"C4 EPhi: \",np.nanmean(e4))\n",
    "print(\"C5 EPhi: \",np.nanmean(e5))"
   ]
  },
  {
   "cell_type": "code",
   "execution_count": 52,
   "id": "9eb27e4b-d552-425b-a752-157a11918199",
   "metadata": {},
   "outputs": [
    {
     "name": "stdout",
     "output_type": "stream",
     "text": [
      "C1 Size: 27455347.19482982\n",
      "C2 Size:  7448578.608109216\n",
      "C3 Size:  41328529.98985408\n",
      "C4 Size:  20289700.231085572\n",
      "C5 Size:  36809044.43284222\n"
     ]
    }
   ],
   "source": [
    "#Size\n",
    "\n",
    "print(\"C1 Size:\", np.nanmean(s1))\n",
    "print(\"C2 Size: \",np.nanmean(s2))\n",
    "print(\"C3 Size: \",np.nanmean(s3))\n",
    "print(\"C4 Size: \",np.nanmean(s4))\n",
    "print(\"C5 Size: \",np.nanmean(s5))"
   ]
  },
  {
   "cell_type": "code",
   "execution_count": 53,
   "id": "242e4d18-7463-42d0-bcbc-73026ade0415",
   "metadata": {},
   "outputs": [
    {
     "name": "stdout",
     "output_type": "stream",
     "text": [
      "C1 Ratio: 1.5449645217496313\n",
      "C2 Ratio:  1.3043851526300125\n",
      "C3 Ratio:  1.4075693083196106\n",
      "C4 Ratio:  1.327524065661857\n",
      "C5 Ratio:  1.4432736941905893\n"
     ]
    }
   ],
   "source": [
    "#Ratio\n",
    "\n",
    "print(\"C1 Ratio:\", np.nanmean(r1))\n",
    "print(\"C2 Ratio: \",np.nanmean(r2))\n",
    "print(\"C3 Ratio: \",np.nanmean(r3))\n",
    "print(\"C4 Ratio: \",np.nanmean(r4))\n",
    "print(\"C5 Ratio: \",np.nanmean(r5))"
   ]
  },
  {
   "cell_type": "code",
   "execution_count": 54,
   "id": "2b9b73bf-36e2-481d-9f7b-2536302b3026",
   "metadata": {},
   "outputs": [
    {
     "name": "stdout",
     "output_type": "stream",
     "text": [
      "C1 Lat: 80.16172575893387\n",
      "C2 Lat:  54.45211719133751\n",
      "C3 Lat:  82.04757136951355\n",
      "C4 Lat:  58.94490921422539\n",
      "C5 Lat:  75.62468573169669\n"
     ]
    }
   ],
   "source": [
    "#Center Latitude\n",
    "\n",
    "print(\"C1 Lat:\", np.nanmean(ct1))\n",
    "print(\"C2 Lat: \",np.nanmean(ct2))\n",
    "print(\"C3 Lat: \",np.nanmean(ct3))\n",
    "print(\"C4 Lat: \",np.nanmean(ct4))\n",
    "print(\"C5 Lat: \",np.nanmean(ct5))"
   ]
  },
  {
   "cell_type": "code",
   "execution_count": 55,
   "id": "da966df2-2214-4a34-9374-cc1c2cf2a9a9",
   "metadata": {},
   "outputs": [
    {
     "name": "stdout",
     "output_type": "stream",
     "text": [
      "C1 Lon: 7.304952749484566\n",
      "C2 Lon:  10.438215464946406\n",
      "C3 Lon:  -6.623974461434288\n",
      "C4 Lon:  24.942324114578547\n",
      "C5 Lon:  19.79884301893227\n"
     ]
    }
   ],
   "source": [
    "#Center Longitude\n",
    "\n",
    "print(\"C1 Lon:\", np.nanmean(cn1))\n",
    "print(\"C2 Lon: \",np.nanmean(cn2))\n",
    "print(\"C3 Lon: \",np.nanmean(cn3))\n",
    "print(\"C4 Lon: \",np.nanmean(cn4))\n",
    "print(\"C5 Lon: \",np.nanmean(cn5))"
   ]
  },
  {
   "cell_type": "code",
   "execution_count": 67,
   "id": "8f9892cc-b8f6-4ec0-93c1-2a05c41971df",
   "metadata": {},
   "outputs": [
    {
     "name": "stdout",
     "output_type": "stream",
     "text": [
      "C1 Cap GPH: 29593.586\n",
      "C2 Cap GPH:  29365.451\n",
      "C3 Cap GPH:  28956.629\n",
      "C4 Cap GPH:  30576.805\n",
      "C5 Cap GPH:  29998.1\n"
     ]
    }
   ],
   "source": [
    "#Cap GPH\n",
    "\n",
    "print(\"C1 Cap GPH:\", np.nanmean(g1))\n",
    "print(\"C2 Cap GPH: \",np.nanmean(g2))\n",
    "print(\"C3 Cap GPH: \",np.nanmean(g3))\n",
    "print(\"C4 Cap GPH: \",np.nanmean(g4))\n",
    "print(\"C5 Cap GPH: \",np.nanmean(g5))"
   ]
  },
  {
   "cell_type": "code",
   "execution_count": 66,
   "id": "d3cee998-7020-431d-a17a-a9233e7561bb",
   "metadata": {},
   "outputs": [
    {
     "name": "stdout",
     "output_type": "stream",
     "text": [
      "C1 Cap Temp: 0.1775607\n",
      "C2 Cap Temp:  -0.44415015\n",
      "C3 Cap Temp:  0.1256103\n",
      "C4 Cap Temp:  0.15742555\n",
      "C5 Cap Temp:  0.025970757\n"
     ]
    }
   ],
   "source": [
    "#Cap Temp\n",
    "\n",
    "print(\"C1 Cap Temp:\", np.nanmean(t1))\n",
    "print(\"C2 Cap Temp: \",np.nanmean(t2))\n",
    "print(\"C3 Cap Temp: \",np.nanmean(t3))\n",
    "print(\"C4 Cap Temp: \",np.nanmean(t4))\n",
    "print(\"C5 Cap Temp: \",np.nanmean(t5))"
   ]
  },
  {
   "cell_type": "code",
   "execution_count": 35,
   "id": "b7436dde-a8c1-42d5-8d1e-ce8360bf9492",
   "metadata": {},
   "outputs": [],
   "source": [
    "AO1 = []\n",
    "NAO1 = []\n",
    "PNA1 = []\n",
    "\n",
    "AO2 = []\n",
    "NAO2 = []\n",
    "PNA2 = []\n",
    "\n",
    "AO3 = []\n",
    "NAO3 = []\n",
    "PNA3 = []\n",
    "\n",
    "AO4 = []\n",
    "NAO4 = []\n",
    "PNA4 = []\n",
    "\n",
    "AO5 = []\n",
    "NAO5 = []\n",
    "PNA5 = []"
   ]
  },
  {
   "cell_type": "code",
   "execution_count": 36,
   "id": "ac7850be-a175-40a2-93f9-93e4b703b630",
   "metadata": {},
   "outputs": [],
   "source": [
    "for k in range(len(N20label)):\n",
    "    if N20label[k] == 0:\n",
    "        AO1.append(ao[k])\n",
    "        NAO1.append(nao[k])\n",
    "        PNA1.append(pna[k])        \n",
    "        \n",
    "    if N20label[k] == 1:\n",
    "        AO2.append(ao[k])\n",
    "        NAO2.append(nao[k])\n",
    "        PNA2.append(pna[k])    \n",
    "        \n",
    "    if N20label[k] == 2:\n",
    "        AO3.append(ao[k])\n",
    "        NAO3.append(nao[k])\n",
    "        PNA3.append(pna[k])    \n",
    "        \n",
    "    if N20label[k] == 3:\n",
    "        AO4.append(ao[k])\n",
    "        NAO4.append(nao[k])\n",
    "        PNA4.append(pna[k])    \n",
    "        \n",
    "    if N20label[k] == 4:\n",
    "        AO5.append(ao[k])\n",
    "        NAO5.append(nao[k])\n",
    "        PNA5.append(pna[k])    \n",
    "        "
   ]
  },
  {
   "cell_type": "code",
   "execution_count": 37,
   "id": "1d37803b-1ffb-424f-b883-e39d45c22134",
   "metadata": {},
   "outputs": [
    {
     "name": "stdout",
     "output_type": "stream",
     "text": [
      "C1 AO Index: -0.04262361147619046\n",
      "C2 AO Index:  -0.4045869362556701\n",
      "C3 AO Index:  0.390387470710265\n",
      "C4 AO Index:  0.03377132542463236\n",
      "C5 AO Index:  -0.07709672626785714\n"
     ]
    }
   ],
   "source": [
    "print(\"C1 AO Index:\", np.nanmean(AO1))\n",
    "print(\"C2 AO Index: \",np.nanmean(AO2))\n",
    "print(\"C3 AO Index: \",np.nanmean(AO3))\n",
    "print(\"C4 AO Index: \",np.nanmean(AO4))\n",
    "print(\"C5 AO Index: \",np.nanmean(AO5))"
   ]
  },
  {
   "cell_type": "code",
   "execution_count": 38,
   "id": "d24307b5-596a-4f18-966b-a12665960759",
   "metadata": {},
   "outputs": [
    {
     "name": "stdout",
     "output_type": "stream",
     "text": [
      "C1 NAO Index: 0.1298483124802721\n",
      "C2 NAO Index:  0.10203244157938145\n",
      "C3 NAO Index:  0.41837880254801324\n",
      "C4 NAO Index:  0.27708502938419116\n",
      "C5 NAO Index:  0.16335379419970195\n"
     ]
    }
   ],
   "source": [
    "print(\"C1 NAO Index:\", np.nanmean(NAO1))\n",
    "print(\"C2 NAO Index: \",np.nanmean(NAO2))\n",
    "print(\"C3 NAO Index: \",np.nanmean(NAO3))\n",
    "print(\"C4 NAO Index: \",np.nanmean(NAO4))\n",
    "print(\"C5 NAO Index: \",np.nanmean(NAO5))"
   ]
  },
  {
   "cell_type": "code",
   "execution_count": 39,
   "id": "de44fb6e-62dd-4fe2-b1e2-255e3fa58e8d",
   "metadata": {},
   "outputs": [
    {
     "name": "stdout",
     "output_type": "stream",
     "text": [
      "C1 PNA Index: -0.0788238444204082\n",
      "C2 PNA Index:  0.07751315228247423\n",
      "C3 PNA Index:  0.0949995928857616\n",
      "C4 PNA Index:  0.30312707698713237\n",
      "C5 PNA Index:  0.35587087066020867\n"
     ]
    }
   ],
   "source": [
    "print(\"C1 PNA Index:\", np.nanmean(PNA1))\n",
    "print(\"C2 PNA Index: \",np.nanmean(PNA2))\n",
    "print(\"C3 PNA Index: \",np.nanmean(PNA3))\n",
    "print(\"C4 PNA Index: \",np.nanmean(PNA4))\n",
    "print(\"C5 PNA Index: \",np.nanmean(PNA5))"
   ]
  },
  {
   "cell_type": "code",
   "execution_count": null,
   "id": "29388a23-0ba4-4447-b9a0-8ad58ed9ed24",
   "metadata": {},
   "outputs": [],
   "source": []
  }
 ],
 "metadata": {
  "kernelspec": {
   "display_name": "Python 3 August 2021 Environment",
   "language": "python",
   "name": "aug21"
  },
  "language_info": {
   "codemirror_mode": {
    "name": "ipython",
    "version": 3
   },
   "file_extension": ".py",
   "mimetype": "text/x-python",
   "name": "python",
   "nbconvert_exporter": "python",
   "pygments_lexer": "ipython3",
   "version": "3.8.10"
  }
 },
 "nbformat": 4,
 "nbformat_minor": 5
}
