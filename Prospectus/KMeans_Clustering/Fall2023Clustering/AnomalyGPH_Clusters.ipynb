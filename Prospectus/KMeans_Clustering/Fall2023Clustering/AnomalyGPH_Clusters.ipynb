{
 "cells": [
  {
   "cell_type": "code",
   "execution_count": null,
   "id": "ae5a0b2f-95e6-424c-a70f-16189cbec1b7",
   "metadata": {},
   "outputs": [],
   "source": [
    "##Same as the Standard GPH file for clustering but instead \n",
    "##... cluster on anomalies of wintertime gph."
   ]
  },
  {
   "cell_type": "code",
   "execution_count": null,
   "id": "37d28fd3-db12-492c-b47a-d1d21d392ed4",
   "metadata": {},
   "outputs": [],
   "source": [
    "#import packages\n",
    "import datetime as dt\n",
    "import numpy as np\n",
    "import matplotlib \n",
    "matplotlib.use('Agg')\n",
    "import matplotlib.pyplot as plt\n",
    "import matplotlib.ticker as mticker\n",
    "import cartopy.feature\n",
    "from cartopy.util import add_cyclic_point\n",
    "import cartopy.crs as ccrs\n",
    "import xarray as xr\n",
    "import scipy.stats\n",
    "import pickle\n",
    "\n",
    "#import statements for the clustering-related portions\n",
    "from sklearn.cluster import KMeans as km"
   ]
  },
  {
   "cell_type": "code",
   "execution_count": null,
   "id": "c4b91c8d-ebf3-42fd-ab23-84c6b49783b9",
   "metadata": {},
   "outputs": [],
   "source": [
    "#open files for split gph data and recombine\n",
    "infile = open(\"../../New_ERAfiles/gph_NEW.p\", 'rb')\n",
    "gph = pickle.load(infile)\n",
    "infile.close()\n",
    "\n",
    "infile = open(\"../../New_ERAfiles/gph_time_NEW.p\", 'rb')\n",
    "gph_time = pickle.load(infile)\n",
    "infile.close()\n",
    "\n",
    "infile = open(\"../../New_ERAfiles/gph_lat_NEW.p\", 'rb')\n",
    "gph_lat = pickle.load(infile)\n",
    "infile.close()\n",
    "\n",
    "infile = open(\"../../New_ERAfiles/gph_lon_NEW.p\", 'rb')\n",
    "gph_lon = pickle.load(infile)\n",
    "infile.close()"
   ]
  },
  {
   "cell_type": "code",
   "execution_count": null,
   "id": "dfce0f3c-9b3c-4afe-b959-d3019db96df0",
   "metadata": {},
   "outputs": [],
   "source": [
    "gph.shape"
   ]
  },
  {
   "cell_type": "code",
   "execution_count": null,
   "id": "de39d764-9763-4922-9e41-e322193c84b0",
   "metadata": {},
   "outputs": [],
   "source": [
    "#non-stacked\n",
    "gph = xr.DataArray(data= gph, \n",
    "                       dims = [\"time\",\"lat\",\"lon\"],\n",
    "                       coords = dict(\n",
    "                           time = gph_time,\n",
    "                           lat = gph_lat,\n",
    "                           lon = gph_lon)\n",
    "                      )"
   ]
  },
  {
   "cell_type": "code",
   "execution_count": null,
   "id": "33efe4f4-3ce8-4d33-8f42-36315828be0f",
   "metadata": {},
   "outputs": [],
   "source": [
    "#calculate daily mean values\n",
    "daily_mean_gph = gph.groupby('time.dayofyear').mean()"
   ]
  },
  {
   "cell_type": "code",
   "execution_count": null,
   "id": "e0ac3aff-2e49-4e5a-a8cb-c6861fe30eeb",
   "metadata": {},
   "outputs": [],
   "source": [
    "#test gph anomaly\n",
    "daily_anom_gph = gph.groupby('time.dayofyear') - daily_mean_gph"
   ]
  },
  {
   "cell_type": "code",
   "execution_count": null,
   "id": "66ffcdf7-fd26-41b0-a56b-64836dbb4f63",
   "metadata": {},
   "outputs": [],
   "source": [
    "daily_anom_gph"
   ]
  },
  {
   "cell_type": "code",
   "execution_count": null,
   "id": "d4cd050d-c5c4-4287-8eca-b9c6b521e93e",
   "metadata": {},
   "outputs": [],
   "source": [
    "anom_D = daily_anom_gph.groupby('time.date').mean()"
   ]
  },
  {
   "cell_type": "code",
   "execution_count": null,
   "id": "9098a9b3-f395-4a22-a31d-eebc8c565a80",
   "metadata": {},
   "outputs": [],
   "source": [
    "##full_S = full_D.stack(mtime = (\"metric\",\"date\"), latlon = (\"lat\",\"lon\")) #stack lat and lon\n",
    "anom_S2 = daily_anom_gph.stack(latlon = (\"lat\",\"lon\")) #stack lat and lon\n",
    "anom_S2"
   ]
  },
  {
   "cell_type": "code",
   "execution_count": null,
   "id": "b495dd0e-d748-4829-a26b-758addd3d9d9",
   "metadata": {},
   "outputs": [],
   "source": [
    "##full_S = full_D.stack(mtime = (\"metric\",\"date\"), latlon = (\"lat\",\"lon\")) #stack lat and lon\n",
    "anom_S = anom_D.stack(latlon = (\"lat\",\"lon\")) #stack lat and lon\n",
    "anom_S"
   ]
  },
  {
   "cell_type": "code",
   "execution_count": null,
   "id": "de1fe892-1a4e-4356-bf69-d8671604afc4",
   "metadata": {},
   "outputs": [],
   "source": [
    "inertia = []\n",
    "clusters = np.arange(1,9,1) #testing number of clusters \n",
    "for n in clusters:\n",
    "    #provides labels of clusters\n",
    "    h_km = km(n_clusters = n).fit(anom_S2)\n",
    "    #Getting unique labels\n",
    "    h_labels = np.unique(h_km)\n",
    "    h_inertia = h_km.inertia_\n",
    "    inertia.append(h_inertia)"
   ]
  },
  {
   "cell_type": "code",
   "execution_count": null,
   "id": "c88f789d-23c6-40ea-b255-d2458907323f",
   "metadata": {},
   "outputs": [],
   "source": [
    "%matplotlib inline\n",
    "plt.title(\"Cluster Inertia Test\")\n",
    "plt.scatter(clusters,inertia)\n",
    "plt.xlabel(\"N Clusters\")\n",
    "plt.ylabel(\"Cluster Inertia\")\n",
    "plt.show()"
   ]
  },
  {
   "cell_type": "code",
   "execution_count": null,
   "id": "255c897a-6ba0-4f90-93c2-541eaec62c5a",
   "metadata": {},
   "outputs": [],
   "source": [
    "from sklearn.decomposition import PCA\n",
    " \n",
    "pca = PCA(5)"
   ]
  },
  {
   "cell_type": "code",
   "execution_count": null,
   "id": "a12b663c-0214-4b1e-820f-d03205cd5849",
   "metadata": {},
   "outputs": [],
   "source": [
    "test = pca.fit_transform(anom_S2)"
   ]
  },
  {
   "cell_type": "code",
   "execution_count": null,
   "id": "44e4da51-bb17-4b5e-8fec-3d3a8617a72c",
   "metadata": {},
   "outputs": [],
   "source": [
    "#plotting the results:\n",
    "h_km = km(n_clusters = 5, random_state=0)\n",
    "label = h_km.fit_predict(anom_S2)\n",
    "#Getting unique labels\n",
    "h_labels = np.unique(label)"
   ]
  },
  {
   "cell_type": "code",
   "execution_count": null,
   "id": "9ce5aa55-b506-4316-972f-1d3481f8e61b",
   "metadata": {},
   "outputs": [],
   "source": [
    "%matplotlib inline\n",
    "for i in h_labels:\n",
    "    plt.scatter(test[label == i , 0] , test[label == i , 1] , label = i)\n",
    "plt.legend()\n",
    "plt.show()"
   ]
  },
  {
   "cell_type": "code",
   "execution_count": null,
   "id": "e3caafc4-fa3e-4cd0-a492-b284bed6723b",
   "metadata": {},
   "outputs": [],
   "source": [
    "label"
   ]
  },
  {
   "cell_type": "code",
   "execution_count": null,
   "id": "61b2bdda-4d84-4d5c-bf8d-58f635d4c39f",
   "metadata": {},
   "outputs": [],
   "source": [
    "pickle.dump(label, open(\"ALL_HOURLY_ANOMcluster_labels.p\", 'wb'))"
   ]
  },
  {
   "cell_type": "code",
   "execution_count": null,
   "id": "83081026-87ae-4bf7-9d92-e2ce6317d716",
   "metadata": {},
   "outputs": [],
   "source": [
    "infile = open(\"UW_lat.p\", 'rb')\n",
    "unweighted_lat = pickle.load(infile)\n",
    "infile.close()\n",
    "\n",
    "infile = open(\"UW_lon.p\", 'rb') \n",
    "unweighted_lon = pickle.load(infile)\n",
    "infile.close()"
   ]
  },
  {
   "cell_type": "code",
   "execution_count": null,
   "id": "94abb400-a91c-4e45-ac72-d70f61d68b9c",
   "metadata": {},
   "outputs": [],
   "source": [
    "#initialize separation of four clusters\n",
    "C1 = []\n",
    "C2 = []\n",
    "C3 = []\n",
    "C4 = []\n",
    "C5 = []\n",
    "\n",
    "for k in range(len(label)):\n",
    "    if label[k] == 0:\n",
    "        C1.append(\"k\")\n",
    "    if label[k] == 1:\n",
    "        #print(k)\n",
    "        C2.append(\"k\")\n",
    "    if label[k] == 2:\n",
    "        #print(k)\n",
    "        C3.append(\"k\")\n",
    "    if label[k] == 3:\n",
    "        #print(k)\n",
    "        C4.append(\"k\") \n",
    "    if label[k] == 4:\n",
    "        #print(k)\n",
    "        C5.append(\"k\") \n",
    "\n",
    "print(len(C1))\n",
    "print(len(C2))\n",
    "print(len(C3))\n",
    "print(len(C4)) \n",
    "print(len(C5)) "
   ]
  },
  {
   "cell_type": "code",
   "execution_count": null,
   "id": "a5a7a9ed-cc31-49f6-a2e3-3311448a649f",
   "metadata": {},
   "outputs": [],
   "source": [
    "C1 = np.zeros((3510,128,512))\n",
    "C2 = np.zeros((2660,128,512))\n",
    "C3 = np.zeros((2462,128,512))\n",
    "C4 = np.zeros((1197,128,512))\n",
    "C5 = np.zeros((2331,128,512))"
   ]
  },
  {
   "cell_type": "code",
   "execution_count": null,
   "id": "d5f2d5ec-a5e8-48a5-a992-c4c7dd73d933",
   "metadata": {},
   "outputs": [],
   "source": [
    "#set the initial index for each empty array to 0 so it can increas with each aded value\n",
    "index1 = 0\n",
    "index2 = 0\n",
    "index3 = 0\n",
    "index4 = 0\n",
    "index5 = 0\n",
    "\n",
    "#loop, create clustered arrays, yay\n",
    "for k in range(len(label)):\n",
    "    if label[k] == 0:\n",
    "        C1[index1,:,:] = gph[k,:,:]\n",
    "        index1 = index1 + 1\n",
    "        \n",
    "    if label[k] == 1:\n",
    "        C2[index2,:,:] = gph[k,:,:]\n",
    "        index2 = index2 + 1\n",
    "        \n",
    "    if label[k] == 2:\n",
    "        C3[index3,:,:] = gph[k,:,:]\n",
    "        index3 = index3 + 1\n",
    "        \n",
    "    if label[k] == 3:\n",
    "        C4[index4,:,:] = gph[k,:,:]\n",
    "        index4 = index4 + 1\n",
    " \n",
    "    if label[k] == 4:\n",
    "        C5[index5,:,:] = gph[k,:,:]\n",
    "        index5 = index5 + 1"
   ]
  },
  {
   "cell_type": "code",
   "execution_count": null,
   "id": "a6afa76c-bd50-4e62-a824-5da39b739dd5",
   "metadata": {},
   "outputs": [],
   "source": [
    "lat_index = unweighted_lat\n",
    "lon_index = unweighted_lon"
   ]
  },
  {
   "cell_type": "code",
   "execution_count": null,
   "id": "584bdd8e-f017-4214-b41f-c7eaabaa4041",
   "metadata": {},
   "outputs": [],
   "source": [
    "h_cluster1 = xr.DataArray(data= np.mean(C1,axis=0), \n",
    "                       dims = [\"lat\",\"lon\"],\n",
    "                       coords = dict(\n",
    "                           lat = lat_index,\n",
    "                           lon = lon_index)\n",
    "                      )\n",
    "\n",
    "h_cluster2 = xr.DataArray(data= np.mean(C2,axis=0), \n",
    "                       dims = [\"lat\",\"lon\"],\n",
    "                       coords = dict(\n",
    "                           lat = lat_index,\n",
    "                           lon = lon_index)\n",
    "                      )\n",
    "\n",
    "h_cluster3 = xr.DataArray(data= np.mean(C3,axis=0), \n",
    "                       dims = [\"lat\",\"lon\"],\n",
    "                       coords = dict(\n",
    "                           lat = lat_index,\n",
    "                           lon = lon_index)\n",
    "                      )\n",
    "\n",
    "h_cluster4 = xr.DataArray(data= np.mean(C4,axis=0), \n",
    "                       dims = [\"lat\",\"lon\"],\n",
    "                       coords = dict(\n",
    "                           lat = lat_index,\n",
    "                           lon = lon_index)\n",
    "                      )\n",
    "\n",
    "h_cluster5 = xr.DataArray(data= np.mean(C5,axis=0), \n",
    "                       dims = [\"lat\",\"lon\"],\n",
    "                       coords = dict(\n",
    "                           lat = lat_index,\n",
    "                           lon = lon_index)\n",
    "                      )"
   ]
  },
  {
   "cell_type": "code",
   "execution_count": null,
   "id": "511e1288-6d30-4153-9263-c4f26534f5b9",
   "metadata": {},
   "outputs": [],
   "source": [
    "from cartopy.mpl.gridliner import LONGITUDE_FORMATTER, LATITUDE_FORMATTER\n",
    "import matplotlib.ticker as mticker\n",
    "import matplotlib.colors\n",
    "import matplotlib.cm\n",
    "\n",
    "plt.Figure(figsize=(20,20),dpi=120)\n",
    "ax = plt.axes(projection=ccrs.Orthographic(0,90))\n",
    "ax.add_feature(cartopy.feature.LAND, zorder=1, edgecolor='dimgray',facecolor='none')\n",
    "#ax.set_extent([-180,180,0,90],ccrs.PlateCarree())\n",
    "ax.outline_patch.set_edgecolor('none')\n",
    "gl = ax.gridlines(draw_labels=True,linewidth=1, color='black', alpha=0.5)\n",
    "gl.xlabels_top = True\n",
    "gl.ylabels_left = False\n",
    "gl.ylabels_right = False\n",
    "gl.xlines = True\n",
    "gl.xformatter = LONGITUDE_FORMATTER\n",
    "gl.yformatter = LATITUDE_FORMATTER\n",
    "gl.xlabel_style = {'size': 10, 'color': 'black'}\n",
    "\n",
    "ax.contourf(lon_index,lat_index,h_cluster5,transform=ccrs.PlateCarree(),cmap=\"bwr\")\n",
    "\n",
    "cmap = matplotlib.cm.bwr\n",
    "norm = matplotlib.colors.Normalize(vmin = np.min(anom_S2.values),vmax=np.max(anom_S2.values))\n",
    "\n",
    "cbar = plt.colorbar(matplotlib.cm.ScalarMappable(norm=norm, cmap=cmap), ax=ax, location = 'right', shrink=0.6, pad=0.1) #add colorbar\n",
    "#tick_locator = ticker.MaxNLocator(nbins=10)\n",
    "#cbar.locator = tick_locator\n",
    "#cbar.update_ticks()\n",
    "cbar.set_label(label='Geopotential Height (m)', size=10)\n",
    "cbar.ax.tick_params(labelsize=10)\n",
    "\n",
    "plt.tight_layout\n",
    "plt.title(\"ERA-I 10hPa Geopotential Height Anomalies, Cluster 5\")\n",
    "plt.savefig(\"ALL_HOURLY_ANOMgph_C5map.png\")"
   ]
  },
  {
   "cell_type": "code",
   "execution_count": null,
   "id": "a87561f6-973f-45f2-86b2-f62f6f22191c",
   "metadata": {},
   "outputs": [],
   "source": []
  }
 ],
 "metadata": {
  "kernelspec": {
   "display_name": "Python 3 August 2021 Environment",
   "language": "python",
   "name": "aug21"
  },
  "language_info": {
   "codemirror_mode": {
    "name": "ipython",
    "version": 3
   },
   "file_extension": ".py",
   "mimetype": "text/x-python",
   "name": "python",
   "nbconvert_exporter": "python",
   "pygments_lexer": "ipython3",
   "version": "3.8.10"
  }
 },
 "nbformat": 4,
 "nbformat_minor": 5
}
