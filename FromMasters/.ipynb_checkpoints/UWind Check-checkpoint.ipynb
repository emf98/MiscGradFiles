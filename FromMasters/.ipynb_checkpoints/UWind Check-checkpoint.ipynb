{
 "cells": [
  {
   "cell_type": "code",
   "execution_count": 25,
   "id": "159a0c19",
   "metadata": {},
   "outputs": [],
   "source": [
    "import datetime as dt\n",
    "import numpy as np\n",
    "import pandas as pd\n",
    "import xarray as xr\n",
    "import math\n",
    "import netCDF4\n",
    "import scipy.stats\n",
    "import pickle\n",
    "import urllib\n",
    "import json\n"
   ]
  },
  {
   "cell_type": "code",
   "execution_count": 62,
   "id": "b8612db4",
   "metadata": {},
   "outputs": [],
   "source": [
    "year = [x for x in range(1999,2019)]\n",
    "\n",
    "testwind = np.empty((20,122))\n",
    "testwind[:] = np.nan\n"
   ]
  },
  {
   "cell_type": "code",
   "execution_count": 63,
   "id": "a6fed78e",
   "metadata": {},
   "outputs": [
    {
     "name": "stdout",
     "output_type": "stream",
     "text": [
      "2000-03-31\n",
      "11.55\n"
     ]
    }
   ],
   "source": [
    "link = \"https://ozonewatch.gsfc.nasa.gov/meteorology/figures/merra2/wind/u45_75n_10_1999_merra2.txt\"\n",
    "f = urllib.request.urlopen(link)\n",
    "file = f.read()\n",
    "file = file.decode(\"utf-8\")\n",
    "file = file.strip()\n",
    "file = file.split('\\n')\n",
    "\n",
    "print(file[280][0:10])\n",
    "print(float(file[280][14:21]))"
   ]
  },
  {
   "cell_type": "code",
   "execution_count": 68,
   "id": "776daeaa",
   "metadata": {},
   "outputs": [
    {
     "name": "stdout",
     "output_type": "stream",
     "text": [
      "[9.471, 12.3022, 15.054375000000002, 16.308500000000002, 28.117874999999994, 31.285749999999997, 32.030499999999996]\n"
     ]
    }
   ],
   "source": [
    "for i in range(len(year)):\n",
    "    y = str(year[i])\n",
    "    link = \"https://ozonewatch.gsfc.nasa.gov/meteorology/figures/merra2/wind/u45_75n_10_\"+y+\"_merra2.txt\"\n",
    "    f = urllib.request.urlopen(link)\n",
    "    file = f.read()\n",
    "    file = file.decode(\"utf-8\")\n",
    "    file = file.strip()\n",
    "    file = file.split('\\n')\n",
    "    \n",
    "    if y == 1999 or y == 2003 or y == 2007 or y == 2011 or y ==2015:\n",
    "        list = [x for x in range(160,283)]\n",
    "        for j in range(len(list)):\n",
    "            testwind[i,j] = float(file[list[j]][14:21])\n",
    "    else:\n",
    "        list = [x for x in range(160,282)]\n",
    "        for k in range(len(list)):\n",
    "            testwind[i,k] = float(file[list[k]][14:21])\n",
    "\n",
    "wind10 = np.nanmean(testwind,axis=0)\n",
    "uwmin = np.min(wind10)\n",
    "uw10 = np.percentile(wind10,10)\n",
    "uw25 = np.percentile(wind10,25)\n",
    "uw50 = np.percentile(wind10,50)\n",
    "uw75 = np.percentile(wind10,75)\n",
    "uw90 = np.percentile(wind10,90)\n",
    "uwmax = np.max(wind10)\n",
    "\n",
    "quants = [uwmin,uw10,uw25,uw50,uw75,uw90,uwmax]\n",
    "\n",
    "print(quants)"
   ]
  },
  {
   "cell_type": "code",
   "execution_count": null,
   "id": "6d422081",
   "metadata": {},
   "outputs": [],
   "source": []
  }
 ],
 "metadata": {
  "kernelspec": {
   "display_name": "Python 3 August 2021 Environment",
   "language": "python",
   "name": "aug21"
  },
  "language_info": {
   "codemirror_mode": {
    "name": "ipython",
    "version": 3
   },
   "file_extension": ".py",
   "mimetype": "text/x-python",
   "name": "python",
   "nbconvert_exporter": "python",
   "pygments_lexer": "ipython3",
   "version": "3.8.10"
  }
 },
 "nbformat": 4,
 "nbformat_minor": 5
}
