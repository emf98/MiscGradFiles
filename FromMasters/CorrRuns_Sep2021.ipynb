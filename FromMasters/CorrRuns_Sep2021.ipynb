{
 "cells": [
  {
   "cell_type": "code",
   "execution_count": 1,
   "id": "1e977668",
   "metadata": {},
   "outputs": [],
   "source": [
    "import datetime as dt\n",
    "import numpy as np\n",
    "import matplotlib\n",
    "matplotlib.use('Agg')\n",
    "import matplotlib.pyplot as plt\n",
    "import cartopy.feature\n",
    "from cartopy.util import add_cyclic_point\n",
    "import cartopy.crs as ccrs\n",
    "import xarray as xr\n",
    "import math\n",
    "import netCDF4\n",
    "#from get_ellipse_metrics import get_emetrics_max_min\n",
    "from fitEllipse2_new import fitEllipseContour\n",
    "from geopy.distance import great_circle\n",
    "from matplotlib.patches import Polygon\n",
    "from matplotlib import cm #colormaps!\n",
    "import copy\n",
    "import os\n",
    "import scipy.stats\n",
    "import pickle\n",
    "\n",
    "from sklearn.linear_model import LinearRegression\n",
    "\n",
    "#os.environ['DISPLAY']=':0.0'\n"
   ]
  },
  {
   "cell_type": "code",
   "execution_count": 2,
   "id": "02076f99",
   "metadata": {},
   "outputs": [],
   "source": [
    "### The main code begins here....\n",
    "home_dir = '/home11/grad/2020/ef935217/Research/Ellipses/'  # <----Change this \n",
    "lev_list = [10,50,30]\n",
    "temp_lev = [850]\n",
    "#contour_list = [31500,20000,23000]\n",
    "contour_list = [30000,20000,23000]\n",
    "\n",
    "write_out = True #write the ellipse data to a text file, True or False "
   ]
  },
  {
   "cell_type": "code",
   "execution_count": 3,
   "id": "0eba97c8",
   "metadata": {},
   "outputs": [],
   "source": [
    "##Open temp related pickles\n",
    "infile = open(\"save_time.p\",'rb')\n",
    "year_ref = pickle.load(infile)\n",
    "infile.close()\n",
    "\n",
    "infile = open(\"save.p\",'rb')\n",
    "temp_ref = pickle.load(infile)\n",
    "infile.close()\n",
    "\n",
    "infile = open(\"lats.p\",'rb')\n",
    "lats = pickle.load(infile)\n",
    "infile.close()\n",
    "\n",
    "infile = open(\"lons.p\",'rb')\n",
    "lons = pickle.load(infile)\n",
    "infile.close()"
   ]
  },
  {
   "cell_type": "code",
   "execution_count": 4,
   "id": "7c8bd61f",
   "metadata": {},
   "outputs": [],
   "source": [
    "#Open data related pickles\n",
    "infile = open(\"ephi_ratio10_1.p\", 'rb')\n",
    "ephi_ratio10 = pickle.load(infile)\n",
    "infile.close()\n",
    "infile = open(\"ephi_wind10_1.p\", 'rb') \n",
    "ephi_wind10 = pickle.load(infile)\n",
    "infile.close()\n",
    "infile = open(\"ephi_cenlat10_1.p\", 'rb')\n",
    "ephi_cenlat10 = pickle.load(infile)\n",
    "infile.close()\n",
    "infile = open(\"ephi_size10_1.p\", 'rb')\n",
    "ephi_size10 = pickle.load(infile)\n",
    "infile.close()\n",
    "infile = open(\"ephi10_1.p\", 'rb')\n",
    "ephi10 = pickle.load(infile)\n",
    "infile.close()\n",
    "\n",
    "infile = open(\"ephi_ratio30_1.p\", 'rb')\n",
    "ephi_ratio30 = pickle.load(infile)\n",
    "infile.close()\n",
    "infile = open(\"ephi_wind30_1.p\", 'rb') \n",
    "ephi_wind30 = pickle.load(infile)\n",
    "infile.close()\n",
    "infile = open(\"ephi_cenlat30_1.p\", 'rb')\n",
    "ephi_cenlat30 = pickle.load(infile)\n",
    "infile.close()\n",
    "infile = open(\"ephi_size30_1.p\", 'rb')\n",
    "ephi_size30 = pickle.load(infile)\n",
    "infile.close()\n",
    "infile = open(\"ephi30_1.p\", 'rb')\n",
    "ephi30 = pickle.load(infile)\n",
    "infile.close()\n",
    "\n",
    "infile = open(\"ephi_ratio50_1.p\", 'rb')\n",
    "ephi_ratio50 = pickle.load(infile)\n",
    "infile.close()\n",
    "infile = open(\"ephi_wind50_1.p\", 'rb') \n",
    "ephi_wind50 = pickle.load(infile)\n",
    "infile.close()\n",
    "infile = open(\"ephi_cenlat50_1.p\", 'rb')\n",
    "ephi_cenlat50 = pickle.load(infile)\n",
    "infile.close()\n",
    "infile = open(\"ephi_size50_1.p\", 'rb')\n",
    "ephi_size50 = pickle.load(infile)\n",
    "infile.close()\n",
    "infile = open(\"ephi50_1.p\", 'rb')\n",
    "ephi50 = pickle.load(infile)\n",
    "infile.close()"
   ]
  },
  {
   "cell_type": "code",
   "execution_count": 5,
   "id": "57672afa",
   "metadata": {},
   "outputs": [
    {
     "name": "stdout",
     "output_type": "stream",
     "text": [
      "[[-35.01988139 -32.84623796 -29.57293755 ...  60.83180356  73.90323254\n",
      "   41.79033504]\n",
      " [134.16348643 133.16544195 132.0364987  ...  63.11250075  72.02993405\n",
      "   73.38380912]\n",
      " [ 92.85626251  93.91349119  94.665588   ...  66.28721792  71.12370793\n",
      "   77.56052867]\n",
      " ...\n",
      " [-38.16347741 -38.00207472 -35.86590914 ... -43.31192652 -35.80228708\n",
      "  -29.60951521]\n",
      " [104.25013655 104.10923817 103.17021375 ...          nan          nan\n",
      "           nan]\n",
      " [106.38101474 107.33124577 108.68142734 ...  75.00747974  73.67545698\n",
      "   71.92101465]]\n"
     ]
    }
   ],
   "source": [
    "#Averaging the appropriate elliptcial diagnostic\n",
    "print(ephi10)\n",
    "##10hPa\n",
    "rat10 = np.nanmean(ephi_ratio10,axis=0)\n",
    "wind10 = np.nanmean(ephi_wind10,axis=0)\n",
    "cenl10 = np.nanmean(ephi_cenlat10,axis=0)\n",
    "size10 = np.nanmean(ephi_size10,axis=0)\n",
    "ep10 = np.nanmean(ephi10,axis=0)\n",
    "\n",
    "\n",
    "##50hPa\n",
    "rat50 = np.nanmean(ephi_ratio50,axis=0)\n",
    "wind50 = np.nanmean(ephi_wind50,axis=0)\n",
    "cenl50 = np.nanmean(ephi_cenlat50,axis=0)\n",
    "size50 = np.nanmean(ephi_size50,axis=0)\n",
    "ep50 = np.nanmean(ephi50,axis=0)"
   ]
  },
  {
   "cell_type": "code",
   "execution_count": 16,
   "id": "f812bf69",
   "metadata": {},
   "outputs": [
    {
     "name": "stdout",
     "output_type": "stream",
     "text": [
      "Ratio 10 =  1.422039461704537\n",
      "Max =  2.30846532942534\n",
      "Min =  1.1751825561396485\n",
      "#####################\n",
      "Wind 10 =  24.04234397322301\n",
      "Max =  36.938042879104614\n",
      "Min =  11.800412591765909\n",
      "#####################\n",
      "Center Latitude 10 =  70.4175415270369\n",
      "Max =  79.85155212246791\n",
      "Min =  59.67136297100664\n",
      "#####################\n",
      "EPhi 10 =  60.1147063827908\n",
      "Max =  60.1147063827908\n",
      "Min =  60.1147063827908\n",
      "#####################\n",
      "Max =  41898802.848600164\n",
      "Min =  10368715.46600493\n",
      "Size 10 =  27120358.245058537\n"
     ]
    }
   ],
   "source": [
    "#get mean values of these\n",
    "\n",
    "r10 = np.nanmean(rat10)\n",
    "print(\"Ratio 10 = \", r10)\n",
    "print(\"Max = \", np.nanmax(rat10))\n",
    "print(\"Min = \", np.nanmin(rat10))\n",
    "print(\"#####################\")\n",
    "\n",
    "w10 = np.nanmean(wind10)\n",
    "print(\"Wind 10 = \", w10)\n",
    "print(\"Max = \", np.nanmax(wind10))\n",
    "print(\"Min = \", np.nanmin(wind10))\n",
    "print(\"#####################\")\n",
    "\n",
    "cl10 = np.nanmean(cenl10)\n",
    "print(\"Center Latitude 10 = \", cl10)\n",
    "print(\"Max = \", np.nanmax(cenl10))\n",
    "print(\"Min = \", np.nanmin(cenl10))\n",
    "print(\"#####################\")\n",
    "\n",
    "ep10 = np.nanmean(ep10)\n",
    "print(\"EPhi 10 = \", ep10)\n",
    "print(\"Max = \", np.nanmax(ep10))\n",
    "print(\"Min = \", np.nanmin(ep10))\n",
    "print(\"#####################\")\n",
    "\n",
    "\n",
    "sz10 = np.nanmean(size10)\n",
    "print(\"Max = \", np.nanmax(size10))\n",
    "print(\"Min = \", np.nanmin(size10))\n",
    "print(\"Size 10 = \", sz10)\n"
   ]
  },
  {
   "cell_type": "code",
   "execution_count": 9,
   "id": "be8ef021",
   "metadata": {},
   "outputs": [
    {
     "name": "stdout",
     "output_type": "stream",
     "text": [
      "Max =  27.38228149414067\n",
      "Min =  -22.03216094970702\n",
      "Temps 850 =  3.311736934170085\n"
     ]
    }
   ],
   "source": [
    "T10 = np.nanmean(temps)-273.15\n",
    "print(\"Max = \", np.nanmax(temps)-273.15)\n",
    "print(\"Min = \", np.nanmin(temps)-273.15)\n",
    "print(\"Temps 850 = \", T10)"
   ]
  },
  {
   "cell_type": "code",
   "execution_count": 8,
   "id": "d5b9e682",
   "metadata": {
    "scrolled": true
   },
   "outputs": [
    {
     "name": "stdout",
     "output_type": "stream",
     "text": [
      "(20, 488, 64, 134)\n",
      "(20, 488, 41, 82)\n",
      "(488, 41, 82)\n"
     ]
    }
   ],
   "source": [
    "## averaging temp values in grid\n",
    "tempval = np.empty((20,488,64,134))\n",
    "tempval[:] = np.nan\n",
    "\n",
    "yearnot = 0\n",
    "\n",
    "for i in np.arange(1999,2019): \n",
    "    #print(i)\n",
    "    #print(yearnot)\n",
    "    year_save = temp_ref[np.where(year_ref==i)]\n",
    "    #print(year_save.shape)\n",
    "    if i == 1999 or i == 2003 or i == 2007 or i == 2011 or i ==2015: #account for leap years in entering data\n",
    "        tempval[yearnot,:,:,:] = year_save\n",
    "        yearnot = yearnot+1\n",
    "    else:\n",
    "        tempval[yearnot,0:360,:,:] = year_save[0:360,:,:]\n",
    "        tempval[yearnot,364:,:,:] = year_save[360:,:,:]\n",
    "        yearnot = yearnot+1\n",
    "\n",
    "print(tempval.shape)\n",
    "\n",
    "tempvals = tempval[:,:,4:45,52:]\n",
    "print(tempvals.shape)\n",
    "\n",
    "temps = np.nanmean(tempvals,axis=0) #POR average temperatures \n",
    "\n",
    "print(temps.shape)\n"
   ]
  },
  {
   "cell_type": "code",
   "execution_count": 10,
   "id": "273c12c8",
   "metadata": {},
   "outputs": [
    {
     "name": "stdout",
     "output_type": "stream",
     "text": [
      "[22.806973 23.508724 24.210478 24.91223  25.613983 26.315735 27.017488\n",
      " 27.71924  28.420994 29.122746 29.8245   30.52625  31.228004 31.929756\n",
      " 32.631508 33.333263 34.035015 34.736767 35.43852  36.14027  36.842022\n",
      " 37.543777 38.24553  38.94728  39.649033 40.350784 41.052536 41.754288\n",
      " 42.45604  43.15779  43.859543 44.561295 45.263046 45.964798 46.66655\n",
      " 47.3683   48.070053 48.771805 49.473557 50.17531  50.87706 ]\n"
     ]
    }
   ],
   "source": [
    "print(lats[4:45])"
   ]
  },
  {
   "cell_type": "code",
   "execution_count": 11,
   "id": "151ddc5e",
   "metadata": {},
   "outputs": [],
   "source": [
    "##SSW Averaging Timelines\n",
    "\n",
    "##10hPa\n",
    "ssw_wind10 = np.empty((12, 81))\n",
    "ssw_wind10[:] = np.nan\n",
    "\n",
    "ssw_rat10 = np.empty((12, 81))\n",
    "ssw_rat10[:] = np.nan\n",
    "\n",
    "ssw_size10 = np.empty((12, 81))\n",
    "ssw_size10[:] = np.nan\n",
    "\n",
    "ssw_cenl10 = np.empty((12, 81))\n",
    "ssw_cenl10[:] = np.nan\n",
    "\n",
    "ssw_ep10= np.empty((12, 81))\n",
    "ssw_ep10[:] = np.nan\n",
    "\n",
    "ssw_t= np.empty((12,81,41,82))\n",
    "ssw_t[:] = np.nan\n",
    "\n",
    "\n",
    "##50hPa\n",
    "ssw_wind50 = np.empty((12, 81))\n",
    "ssw_wind50[:] = np.nan\n",
    "\n",
    "ssw_rat50 = np.empty((12, 81))\n",
    "ssw_rat50[:] = np.nan\n",
    "\n",
    "ssw_size50 = np.empty((12, 81))\n",
    "ssw_size50[:] = np.nan\n",
    "\n",
    "ssw_cenl50 = np.empty((12, 81))\n",
    "ssw_cenl50[:] = np.nan\n",
    "\n",
    "ssw_ep50= np.empty((12, 81))\n",
    "ssw_ep50[:] = np.nan\n",
    "\n",
    "\n",
    "year2 = [1999,2001,2002,2003,2005,2006,2007,2008,2009,2012,2017,2018]\n",
    "sswcl2 = [0,2,3,4,6,7,8,9,10,13,18,19]\n",
    "dates2 = [(404,485),(76,157),(156,237),(108,189),(168,249),(304,385),(296,377),(180,261),(244,325),(112,193),(256,337),(92,173)]\n",
    "\n",
    "for i in range(len(year2)):\n",
    "    d1 = int(dates2[i][0])\n",
    "    d2 = int(dates2[i][1])\n",
    "    \n",
    "    ##diagnostics\n",
    "    \n",
    "    ##10hPa\n",
    "    w = ephi_wind10[sswcl2[i],d1:d2] #wind\n",
    "    ssw_wind10[i] = w[:]\n",
    "    \n",
    "    rat = ephi_ratio10[sswcl2[i],d1:d2]\n",
    "    ssw_rat10[i] = rat[:]\n",
    "    \n",
    "    cl = ephi_cenlat10[sswcl2[i],d1:d2]\n",
    "    ssw_cenl10[i] = cl[:]\n",
    "    \n",
    "    sz = ephi_size10[sswcl2[i],d1:d2]\n",
    "    ssw_size10[i] = sz[:]\n",
    "    \n",
    "    ep = ephi10[sswcl2[i],d1:d2]\n",
    "    ssw_ep10[i] = ep[:]\n",
    "    \n",
    "    tm = tempvals[sswcl2[i],d1:d2,:,:]\n",
    "    ssw_t[i] = tm[:]\n",
    "    \n",
    "    ##50hPa\n",
    "    w = ephi_wind50[sswcl2[i],d1:d2] #wind\n",
    "    ssw_wind50[i] = w[:]\n",
    "    \n",
    "    rat = ephi_ratio50[sswcl2[i],d1:d2]\n",
    "    ssw_rat50[i] = rat[:]\n",
    "    \n",
    "    cl = ephi_cenlat50[sswcl2[i],d1:d2]\n",
    "    ssw_cenl50[i] = cl[:]\n",
    "    \n",
    "    sz = ephi_size50[sswcl2[i],d1:d2]\n",
    "    ssw_size50[i] = sz[:]\n",
    "    \n",
    "    ep = ephi50[sswcl2[i],d1:d2]\n",
    "    ssw_ep50[i] = ep[:]"
   ]
  },
  {
   "cell_type": "code",
   "execution_count": 12,
   "id": "dbd41a70",
   "metadata": {},
   "outputs": [
    {
     "data": {
      "text/plain": [
       "(12, 81, 41, 82)"
      ]
     },
     "execution_count": 12,
     "metadata": {},
     "output_type": "execute_result"
    }
   ],
   "source": [
    "ssw_t.shape"
   ]
  },
  {
   "cell_type": "code",
   "execution_count": 13,
   "id": "c972bd8a",
   "metadata": {},
   "outputs": [],
   "source": [
    "import cartopy.crs as ccrs\n",
    "import cartopy.feature as cfeature\n",
    "lonW = -118\n",
    "lonE = -66\n",
    "latS = 24\n",
    "latN = 50\n",
    "latRange = np.arange(latS-5,latN+5,.25) # expand the data range a bit beyond the plot range\n",
    "lonRange = np.arange((lonW-5+360),(lonE+5+360),.25) # Need to match longitude values to those of the coordinate variable\n",
    "\n",
    "#defining varibales for cartopy plotting\n",
    "cLat = (latN + latS)/2.\n",
    "cLon = (lonW + lonE)/2.\n",
    "\n",
    "map_crs = ccrs.LambertConformal(central_longitude=cLon,\n",
    "                               central_latitude=cLat) #lat and lon extent\n",
    "data_crs = ccrs.PlateCarree()\n",
    "res = '50m'\n",
    "\n",
    "constrainLon = 7"
   ]
  },
  {
   "cell_type": "code",
   "execution_count": 14,
   "id": "9672a5d5",
   "metadata": {},
   "outputs": [],
   "source": [
    "#############################################################################"
   ]
  },
  {
   "cell_type": "code",
   "execution_count": 23,
   "id": "82869a8d",
   "metadata": {},
   "outputs": [
    {
     "data": {
      "text/plain": [
       "-35.0198813918669"
      ]
     },
     "execution_count": 23,
     "metadata": {},
     "output_type": "execute_result"
    }
   ],
   "source": [
    "ephi10[0,0]"
   ]
  },
  {
   "cell_type": "code",
   "execution_count": 24,
   "id": "77abb33b",
   "metadata": {},
   "outputs": [
    {
     "name": "stdout",
     "output_type": "stream",
     "text": [
      "[[           nan            nan            nan ... 2.36007997e-02\n",
      "             nan            nan]\n",
      " [           nan            nan            nan ... 3.03238461e-02\n",
      "             nan            nan]\n",
      " [           nan            nan            nan ...            nan\n",
      "             nan            nan]\n",
      " ...\n",
      " [           nan            nan            nan ... 3.49664499e-06\n",
      "  5.67424248e-06 8.09953644e-06]\n",
      " [           nan 3.44333408e-02 1.96984956e-04 ... 1.48458200e-06\n",
      "  1.54544974e-06 2.33236007e-06]\n",
      " [2.00143195e-04 1.05240032e-06 4.00276224e-08 ... 9.27887053e-07\n",
      "  9.63340810e-07 9.24727017e-07]]\n"
     ]
    }
   ],
   "source": [
    "corr = np.zeros((41,82))\n",
    "pval = np.empty((41,82))\n",
    "pval[:] = np.nan\n",
    "    \n",
    "for i in range(0,41):\n",
    "    for j in range(0,82):\n",
    "        reg_temps = temps[:,i,j]\n",
    "        rt = []\n",
    "        ep = []\n",
    "        for k in range(0,488):\n",
    "            if k <= 56:\n",
    "                continue\n",
    "            else:\n",
    "                t = k-56\n",
    "                rt.append(reg_temps[k])\n",
    "                ep.append(ephi10[0,t])\n",
    "        #print(len(rt))\n",
    "        #print(len(ep))\n",
    "        test = scipy.stats.kendalltau(rt, ep)\n",
    "        #print(test[0])\n",
    "        corr[i,j] = test[0]\n",
    "        if test[1] <= 0.05:\n",
    "            pval[i,j] = test[1]\n",
    "\n",
    "print(pval)"
   ]
  },
  {
   "cell_type": "code",
   "execution_count": 25,
   "id": "726c40ec",
   "metadata": {},
   "outputs": [],
   "source": [
    "##plot contour of regression\n",
    "fig = plt.figure(figsize=(15,15)) #create figure\n",
    "ax = plt.subplot(1,1,1, projection = map_crs)\n",
    "ax.set_extent ([lonW,lonE-constrainLon,latS,latN])\n",
    "ax.add_feature(cfeature.COASTLINE.with_scale(res))\n",
    "ax.add_feature(cfeature.STATES.with_scale(res))\n",
    "\n",
    "a = ax.contourf(lons[52:],lats[4:45],corr,levels = np.linspace(-1,1,11),transform=data_crs, cmap = \"bwr\") #plot temperature\n",
    "\n",
    "cs = ax.contourf(lons[52:],lats[4:45], pval, hatches=['..'], colors = 'none',transform=data_crs)\n",
    "\n",
    "cbar = plt.colorbar(a, ax=ax,shrink = 0.6) #add colorbar\n",
    "cbar.set_label(label='Correlation Coefficient', size=18)\n",
    "cbar.ax.tick_params(labelsize=18)\n",
    "\n",
    "plt.title(\"Kendall Tau Correlation Measure for 10hPa EPhi\", fontsize = 18)\n",
    "plt.show()\n",
    "\n",
    "plt.savefig(\"KT_10hPaEPhi.png\")"
   ]
  },
  {
   "cell_type": "code",
   "execution_count": 26,
   "id": "be212145",
   "metadata": {},
   "outputs": [],
   "source": [
    "####################################################################################\n",
    "##NOW FOR THE SSW EVENTS##"
   ]
  },
  {
   "cell_type": "code",
   "execution_count": 27,
   "id": "32f9254e",
   "metadata": {},
   "outputs": [],
   "source": [
    "#Averaging the appropriate elliptcial diagnostic\n",
    "##10hPa\n",
    "srat10 = np.nanmean(ssw_rat10,axis=0)\n",
    "swind10 = np.nanmean(ssw_wind10,axis=0)\n",
    "scenl10 = np.nanmean(ssw_cenl10,axis=0)\n",
    "ssize10 = np.nanmean(ssw_size10,axis=0)\n",
    "sep10 = np.nanmean(ssw_ep10,axis=0)\n",
    "\n",
    "##50hPa\n",
    "srat50 = np.nanmean(ssw_rat50,axis=0)\n",
    "swind50 = np.nanmean(ssw_wind50,axis=0)\n",
    "scenl50 = np.nanmean(ssw_cenl50,axis=0)\n",
    "ssize50 = np.nanmean(ssw_size50,axis=0)\n",
    "sep50 = np.nanmean(ssw_ep50,axis=0)\n",
    "\n",
    "temps = np.nanmean(ssw_t,axis=0)"
   ]
  },
  {
   "cell_type": "code",
   "execution_count": 42,
   "id": "5e14ee77",
   "metadata": {},
   "outputs": [
    {
     "name": "stdout",
     "output_type": "stream",
     "text": [
      "[[5.03922598e-05 1.72238843e-05 5.40621352e-07 ...            nan\n",
      "             nan            nan]\n",
      " [2.97838236e-05 9.73421202e-06 3.94990103e-06 ...            nan\n",
      "             nan            nan]\n",
      " [8.35123469e-05 5.03922598e-05 9.73421202e-06 ...            nan\n",
      "             nan            nan]\n",
      " ...\n",
      " [2.04871982e-12 5.46215947e-11 1.75560024e-10 ...            nan\n",
      "             nan            nan]\n",
      " [9.88310856e-11 9.88310856e-11 1.22654518e-07 ...            nan\n",
      "             nan            nan]\n",
      " [8.27808887e-08 3.88440984e-05 2.08173575e-03 ...            nan\n",
      "             nan            nan]]\n"
     ]
    }
   ],
   "source": [
    "corr = np.zeros((41,82))\n",
    "pval = np.empty((41,82))\n",
    "pval[:] = np.nan\n",
    "    \n",
    "for i in range(0,41):\n",
    "    for j in range(0,82):\n",
    "        reg_temps = temps[:,i,j]\n",
    "        rt = []\n",
    "        ep = []\n",
    "        for k in range(0,81):\n",
    "            if k <= 56:\n",
    "                continue\n",
    "            else:\n",
    "                t = k-56\n",
    "                rt.append(reg_temps[k])\n",
    "                ep.append(swind10[t])\n",
    "        #print(len(rt))\n",
    "        #print(len(ep))\n",
    "        test = scipy.stats.kendalltau(rt, ep)\n",
    "        #print(test[0])\n",
    "        corr[i,j] = test[0]\n",
    "        if test[1] <= 0.05:\n",
    "            pval[i,j] = test[1]\n",
    "\n",
    "print(pval)"
   ]
  },
  {
   "cell_type": "code",
   "execution_count": 43,
   "id": "cfe7fcc5",
   "metadata": {},
   "outputs": [],
   "source": [
    "##plot contour of regression\n",
    "fig = plt.figure(figsize=(15,15)) #create figure\n",
    "ax = plt.subplot(1,1,1, projection = map_crs)\n",
    "ax.set_extent ([lonW,lonE-constrainLon,latS,latN])\n",
    "ax.add_feature(cfeature.COASTLINE.with_scale(res))\n",
    "ax.add_feature(cfeature.STATES.with_scale(res))\n",
    "\n",
    "a = ax.contourf(lons[52:],lats[4:45],corr,levels = np.linspace(-1,1,11), transform=data_crs, cmap = \"bwr\") #plot temperature\n",
    "\n",
    "cs = ax.contourf(lons[52:],lats[4:45], pval, hatches=['..'], colors = 'none',transform=data_crs)\n",
    "\n",
    "cbar = plt.colorbar(a, ax=ax,shrink = 0.6) #add colorbar\n",
    "cbar.set_label(label='Correlation Coefficient', size=18)\n",
    "cbar.ax.tick_params(labelsize=18)\n",
    "\n",
    "plt.title(\"Kendall Tau Correlation Measure for 10hPa Wind in SSWs\", fontsize = 18)\n",
    "plt.show()\n",
    "\n",
    "plt.savefig(\"SSW_10hPaWind.png\")"
   ]
  },
  {
   "cell_type": "code",
   "execution_count": null,
   "id": "17581c6b",
   "metadata": {},
   "outputs": [],
   "source": []
  }
 ],
 "metadata": {
  "kernelspec": {
   "display_name": "Python 3 June 2020 Environment",
   "language": "python",
   "name": "jun20"
  },
  "language_info": {
   "codemirror_mode": {
    "name": "ipython",
    "version": 3
   },
   "file_extension": ".py",
   "mimetype": "text/x-python",
   "name": "python",
   "nbconvert_exporter": "python",
   "pygments_lexer": "ipython3",
   "version": "3.7.6"
  }
 },
 "nbformat": 4,
 "nbformat_minor": 5
}
