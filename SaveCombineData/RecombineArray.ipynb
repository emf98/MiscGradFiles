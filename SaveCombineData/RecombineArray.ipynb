{
 "cells": [
  {
   "cell_type": "markdown",
   "id": "bcfd7413-2b5b-458b-b932-986cd4d98a20",
   "metadata": {},
   "source": [
    "This python file ultimately is useful for reducing and weighting my data.\n",
    "\n",
    "I will create the area averages here... or at least for some. Temperature will require its own file to account for the additional categorization. "
   ]
  },
  {
   "cell_type": "code",
   "execution_count": null,
   "id": "9f25bfb3-0541-45dc-bcc5-7b610037f4b3",
   "metadata": {},
   "outputs": [],
   "source": [
    "#import statements... I think these are all of the relevant ones to what I am doing here. \n",
    "import datetime as dt\n",
    "import numpy as np\n",
    "import xarray as xr\n",
    "import pickle"
   ]
  },
  {
   "cell_type": "code",
   "execution_count": null,
   "id": "f33c6b7f-dc2b-4107-93a3-80a87803bca3",
   "metadata": {},
   "outputs": [],
   "source": [
    "infile = open(\"./FullNH/FullNH_100_gph_1959_PT1.p\", 'rb') \n",
    "file1 = pickle.load(infile)\n",
    "#test = pickle.load(infile)\n",
    "infile.close()\n",
    "\n",
    "infile = open(\"./FullNH/FullNH_100_gph_1959_PT2.p\", 'rb') \n",
    "file2 = pickle.load(infile)\n",
    "infile.close()"
   ]
  },
  {
   "cell_type": "raw",
   "id": "93c99e37-ca70-4e75-b9ed-7206ad16a8f6",
   "metadata": {},
   "source": [
    "infile = open(\"1959gph100.p\", 'rb') \n",
    "test = pickle.load(infile)\n",
    "infile.close()"
   ]
  },
  {
   "cell_type": "code",
   "execution_count": null,
   "id": "a7b0c7eb-8d79-40da-8a9b-cc1e4f44536c",
   "metadata": {},
   "outputs": [],
   "source": [
    "##save year index\n",
    "year = [i for i in range(1959,2023)] #indicate years for data, needed for opening files\n",
    "len(year)"
   ]
  },
  {
   "cell_type": "code",
   "execution_count": null,
   "id": "dd6b7bdc-0fc9-4470-b21b-acf6562701d9",
   "metadata": {},
   "outputs": [],
   "source": [
    "##save lat lon indices\n",
    "lats = []\n",
    "lons = []\n",
    "testfile = xr.open_dataset(\"../era5/gph/era5_gph_1979.nc\")\n",
    "lats.append(testfile.latitude.values)\n",
    "lons.append(testfile.longitude.values)\n",
    "\n",
    "lats = lats[0]\n",
    "lons = lons[0]"
   ]
  },
  {
   "cell_type": "code",
   "execution_count": null,
   "id": "b62796aa-e042-4238-8391-840c71cbf2a2",
   "metadata": {},
   "outputs": [],
   "source": [
    "##save day indices\n",
    "import pandas as pd\n",
    "\n",
    "s = pd.date_range('2011-11-01', periods=152, freq='D').to_series()\n",
    "test1 = s.dt.strftime('%m-%d')\n",
    "times = []\n",
    "for i in range(len(s)):\n",
    "    times.append(test1[i])\n",
    "\n",
    "#times"
   ]
  },
  {
   "cell_type": "code",
   "execution_count": null,
   "id": "4ce4a23d-4d33-4b51-99da-919216c8e5bb",
   "metadata": {},
   "outputs": [],
   "source": [
    "test = np.concatenate((file1,file2), axis=0)\n",
    "test.shape"
   ]
  },
  {
   "cell_type": "code",
   "execution_count": null,
   "id": "63ac9fb7-35f8-4c55-8a21-a4f3dfb6d33f",
   "metadata": {},
   "outputs": [],
   "source": [
    "##create array for gph ... \n",
    "gph = xr.DataArray(data= test, dims = [\"year\",\"day\",\"lat\",\"lon\"],coords = dict(year = year,\n",
    "                                                                                day = times,\n",
    "                                                                                lat = lats,\n",
    "                                                                                lon = lons))\n",
    "gph"
   ]
  },
  {
   "cell_type": "code",
   "execution_count": null,
   "id": "b157d75f-6009-48cb-ab85-53edbe414c2d",
   "metadata": {},
   "outputs": [],
   "source": [
    "#select cap\n",
    "#g = gph.loc[dict(lat=slice(90,60))]\n",
    "#g\n",
    "\n",
    "#select lat band\n",
    "g = gph.loc[dict(lat=slice(60,40))]\n",
    "g"
   ]
  },
  {
   "cell_type": "code",
   "execution_count": null,
   "id": "3a0cfe8f-7146-4d35-be38-5852efa56b7c",
   "metadata": {
    "scrolled": true
   },
   "outputs": [],
   "source": [
    "##this was inserted because i forgot to do it ... oops\n",
    "g = gph/9.81 #divide by gravity for gph\n",
    "finalgph = g.values\n",
    "finalgph"
   ]
  },
  {
   "cell_type": "raw",
   "id": "fd7745f8-4fe0-4032-94ef-df6243cd6ff4",
   "metadata": {},
   "source": [
    "pickle.dump(finalgph, open(\"1959gph100.p\", 'wb'))"
   ]
  },
  {
   "cell_type": "code",
   "execution_count": null,
   "id": "dc722972-588a-448f-bcab-8bfa55dabf9a",
   "metadata": {},
   "outputs": [],
   "source": [
    "g"
   ]
  },
  {
   "cell_type": "code",
   "execution_count": null,
   "id": "b52f3383-62f9-46dc-87b0-97ccc04cee1a",
   "metadata": {},
   "outputs": [],
   "source": [
    "#create weights\n",
    "weights=np.cos(np.deg2rad(g.lat))\n",
    "g = g.weighted(weights).mean(dim=\"lon\").mean(dim=\"lat\") #average over the full area\n",
    "g"
   ]
  },
  {
   "cell_type": "code",
   "execution_count": null,
   "id": "8cbf224d-8266-47eb-8f82-418dd34d58ac",
   "metadata": {},
   "outputs": [],
   "source": [
    "g.shape"
   ]
  },
  {
   "cell_type": "markdown",
   "id": "3c816511-d8e0-4151-bc84-99c3b08d706b",
   "metadata": {},
   "source": [
    "t.shape"
   ]
  },
  {
   "cell_type": "markdown",
   "id": "af37f794-801c-4eec-a3a8-d9d297ddbbeb",
   "metadata": {},
   "source": [
    "pickle.dump(t.values, open(\"v100_6040.p\", 'wb'))"
   ]
  },
  {
   "cell_type": "code",
   "execution_count": null,
   "id": "6207e253-9d28-4047-a754-5ff552f8fb47",
   "metadata": {},
   "outputs": [],
   "source": [
    "dailymean_gph = np.mean(g.values,axis=0)"
   ]
  },
  {
   "cell_type": "code",
   "execution_count": null,
   "id": "17a8569b-754b-4116-94b7-81e135398e4a",
   "metadata": {},
   "outputs": [],
   "source": [
    "anom_gph = g.values-dailymean_gph \n",
    "anom_gph.shape"
   ]
  },
  {
   "cell_type": "code",
   "execution_count": null,
   "id": "db710769-b17f-4f76-a1a5-c0bf9bc8026f",
   "metadata": {},
   "outputs": [],
   "source": [
    "pickle.dump(anom_gph, open(\"FULL_ANOM_capgph1959.p\", 'wb'))"
   ]
  },
  {
   "cell_type": "code",
   "execution_count": null,
   "id": "4a36b439-8372-4b73-b76f-d37aba332d1e",
   "metadata": {},
   "outputs": [],
   "source": []
  }
 ],
 "metadata": {
  "kernelspec": {
   "display_name": "Python 3 August 2021 Environment",
   "language": "python",
   "name": "aug21"
  },
  "language_info": {
   "codemirror_mode": {
    "name": "ipython",
    "version": 3
   },
   "file_extension": ".py",
   "mimetype": "text/x-python",
   "name": "python",
   "nbconvert_exporter": "python",
   "pygments_lexer": "ipython3",
   "version": "3.8.10"
  }
 },
 "nbformat": 4,
 "nbformat_minor": 5
}
